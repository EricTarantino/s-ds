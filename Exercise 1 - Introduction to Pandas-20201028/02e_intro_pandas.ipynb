{
 "cells": [
  {
   "cell_type": "markdown",
   "metadata": {},
   "source": [
    "# Exercise 1: Introduction to Pandas\n",
    "\n",
    "In this exercise, we will work with the pandas library, which is one of the most important Python packages for data analysis and manipulation.  \n",
    "The documentation of this package can be found here: https://pandas.pydata.org/docs/"
   ]
  },
  {
   "cell_type": "code",
   "execution_count": null,
   "metadata": {},
   "outputs": [],
   "source": [
    "import pandas as pd"
   ]
  },
  {
   "cell_type": "markdown",
   "metadata": {},
   "source": [
    "## Examples: The Iris Dataset\n",
    "\n",
    "We read in the Iris dataset that we obtained from https://archive.ics.uci.edu/ml/datasets/Iris and walk through a few basic examples."
   ]
  },
  {
   "cell_type": "code",
   "execution_count": null,
   "metadata": {},
   "outputs": [],
   "source": [
    "# read data from a file into a data frame, specify column names by hand\n",
    "df = pd.read_csv(\"iris.data\", names = [\"sepal_length\", \"sepal_width\",\" petal_weight\", \"petal_width\", \"class\"])\n",
    "df"
   ]
  },
  {
   "cell_type": "markdown",
   "metadata": {},
   "source": [
    "#### Accessing rows and columns"
   ]
  },
  {
   "cell_type": "code",
   "execution_count": null,
   "metadata": {},
   "outputs": [],
   "source": [
    "# columns can be accessed as attributes\n",
    "df.sepal_length"
   ]
  },
  {
   "cell_type": "code",
   "execution_count": null,
   "metadata": {},
   "outputs": [],
   "source": [
    "## rows and columns can be acessed by index as well\n",
    "# -> use loc to access columns by name\n",
    "print(df.loc[:,\"sepal_length\"])"
   ]
  },
  {
   "cell_type": "code",
   "execution_count": null,
   "metadata": {},
   "outputs": [],
   "source": [
    "# -> use iloc to access columns by numerical index\n",
    "print(df.iloc[:,3])\n",
    "print(df.iloc[4:,3])\n",
    "print(df.iloc[4,3])"
   ]
  },
  {
   "cell_type": "markdown",
   "metadata": {},
   "source": [
    "#### Advanced selection and built-in functions"
   ]
  },
  {
   "cell_type": "code",
   "execution_count": null,
   "metadata": {},
   "outputs": [],
   "source": [
    "# get all rows where sepal length is bigger than 5\n",
    "\n",
    "df.loc[df[\"sepal_length\"]>5]\n",
    "#df[\"sepal_length\"]>5"
   ]
  },
  {
   "cell_type": "code",
   "execution_count": null,
   "metadata": {},
   "outputs": [],
   "source": [
    "# get mean value of petal width\n",
    "print(df.sepal_length.mean())"
   ]
  },
  {
   "cell_type": "code",
   "execution_count": null,
   "metadata": {},
   "outputs": [],
   "source": [
    "# get unique class values\n",
    "print(df[\"class\"].unique())"
   ]
  },
  {
   "cell_type": "markdown",
   "metadata": {},
   "source": [
    "## Task 1: Exploring Census Data\n",
    "\n",
    "In this task we work with the adult dataset, which has been axtracted from a 1994 census dataset.  \n",
    "A brief documentation can be found here: https://archive.ics.uci.edu/ml/datasets/adult\n",
    "\n",
    "__a)__ Read in the \"adult.csv\" file and print its ```head()``` to get a little overview of it. Note that this dataset contains NAs which are encoded as '?' and should be converted accordingly. How many rows and colums does this dataset have?"
   ]
  },
  {
   "cell_type": "code",
   "execution_count": null,
   "metadata": {},
   "outputs": [],
   "source": []
  },
  {
   "cell_type": "markdown",
   "metadata": {},
   "source": [
    "__b)__ Compute the mean 'working time per week'!"
   ]
  },
  {
   "cell_type": "code",
   "execution_count": null,
   "metadata": {},
   "outputs": [],
   "source": []
  },
  {
   "cell_type": "markdown",
   "metadata": {},
   "source": [
    "__c)__ Give the unique values that occur in the attribute 'education'. Further, give the number of people in the dataset that have obtained each specific education level!"
   ]
  },
  {
   "cell_type": "code",
   "execution_count": null,
   "metadata": {},
   "outputs": [],
   "source": []
  },
  {
   "cell_type": "markdown",
   "metadata": {},
   "source": [
    "__c)__ List all persons with a Bachelor degree as their highest degree, sorted by their ```capital-loss``` in descending order. What is the sum of ```capital-loss``` for these persons?"
   ]
  },
  {
   "cell_type": "code",
   "execution_count": null,
   "metadata": {
    "scrolled": true
   },
   "outputs": [],
   "source": []
  },
  {
   "cell_type": "markdown",
   "metadata": {},
   "source": [
    "__d)__ How many males have a bachelor degree as their highest degree?"
   ]
  },
  {
   "cell_type": "code",
   "execution_count": null,
   "metadata": {
    "scrolled": true
   },
   "outputs": [],
   "source": []
  },
  {
   "cell_type": "markdown",
   "metadata": {
    "collapsed": true
   },
   "source": [
    "__e)__ List the 10 youngest persons with a bachelor degree or higher. _Hint: consider the_ ```education-num``` _attribute_."
   ]
  },
  {
   "cell_type": "code",
   "execution_count": null,
   "metadata": {
    "scrolled": true
   },
   "outputs": [],
   "source": []
  },
  {
   "cell_type": "markdown",
   "metadata": {},
   "source": [
    "__f)__ Show for each combination of sex and race, how many instances (people) are contained in the dataset.  _Hint: consider panda's_ ```groupby()``` _function in this as well as in the following subtasks_."
   ]
  },
  {
   "cell_type": "code",
   "execution_count": null,
   "metadata": {},
   "outputs": [],
   "source": []
  },
  {
   "cell_type": "markdown",
   "metadata": {},
   "source": [
    "__g)__ What is the mean age of men and women in this dataset?"
   ]
  },
  {
   "cell_type": "code",
   "execution_count": null,
   "metadata": {},
   "outputs": [],
   "source": []
  },
  {
   "cell_type": "markdown",
   "metadata": {
    "collapsed": true
   },
   "source": [
    "__h)__ Show for each combination of marital-Status and race how many males/females over 40 years have a bachelor degree as their highest degree?"
   ]
  },
  {
   "cell_type": "code",
   "execution_count": null,
   "metadata": {
    "scrolled": true
   },
   "outputs": [],
   "source": []
  },
  {
   "cell_type": "markdown",
   "metadata": {
    "collapsed": true
   },
   "source": [
    "## Task 2: Organizing a Book and Movie shop"
   ]
  },
  {
   "cell_type": "markdown",
   "metadata": {
    "collapsed": true
   },
   "source": [
    "For a virtual shop that sells movies and books, we have four tables:\n",
    "    * pd_customers: Gives first- and lastname for each customer\n",
    "    * pd_books: Gives the raw price for all books that are being sold\n",
    "    * pd_movies: Gives the raw price for all movies that are being sold\n",
    "    * pd_transactions: Gives the list of all transactions being made (which customer bought which item)"
   ]
  },
  {
   "cell_type": "markdown",
   "metadata": {},
   "source": [
    "__a)__ Load all 4 datasets in separate dataframes!"
   ]
  },
  {
   "cell_type": "code",
   "execution_count": null,
   "metadata": {},
   "outputs": [],
   "source": []
  },
  {
   "cell_type": "markdown",
   "metadata": {
    "collapsed": true
   },
   "source": [
    "__b)__  Compile a listing of all items (i.e., books and movies) that have been sold in one of the dataframes.\n",
    "The resulting dataframe should contain two columns: ```\"item_name\"``` and ```\"price\"```. _Hint: consider panda's_ ```concat()``` _function_."
   ]
  },
  {
   "cell_type": "code",
   "execution_count": null,
   "metadata": {},
   "outputs": [],
   "source": []
  },
  {
   "cell_type": "markdown",
   "metadata": {},
   "source": [
    "__c)__ Join the information on customer names, transactions, and prices into a single dataframe. _Hint: consider panda's_ ```merge()``` _function_."
   ]
  },
  {
   "cell_type": "code",
   "execution_count": null,
   "metadata": {},
   "outputs": [],
   "source": []
  },
  {
   "cell_type": "markdown",
   "metadata": {},
   "source": [
    "__d)__ Compute a table of customers. For all customers give the number of items bought, the total price of these items, and the average price of these items."
   ]
  },
  {
   "cell_type": "code",
   "execution_count": null,
   "metadata": {
    "scrolled": true
   },
   "outputs": [],
   "source": []
  },
  {
   "cell_type": "markdown",
   "metadata": {},
   "source": [
    "__e)__  Round the average price to two digits and export the resulting table to a csv-file!"
   ]
  },
  {
   "cell_type": "code",
   "execution_count": null,
   "metadata": {},
   "outputs": [],
   "source": []
  },
  {
   "cell_type": "markdown",
   "metadata": {},
   "source": [
    "__f)__ Compute lists of the top 10 bestselling items, both by count and by sum of prices"
   ]
  },
  {
   "cell_type": "code",
   "execution_count": null,
   "metadata": {
    "scrolled": true
   },
   "outputs": [],
   "source": []
  }
 ],
 "metadata": {
  "kernelspec": {
   "display_name": "Python 3",
   "language": "python",
   "name": "python3"
  },
  "language_info": {
   "codemirror_mode": {
    "name": "ipython",
    "version": 3
   },
   "file_extension": ".py",
   "mimetype": "text/x-python",
   "name": "python",
   "nbconvert_exporter": "python",
   "pygments_lexer": "ipython3",
   "version": "3.8.3"
  }
 },
 "nbformat": 4,
 "nbformat_minor": 2
}
