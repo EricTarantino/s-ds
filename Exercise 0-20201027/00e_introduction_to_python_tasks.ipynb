{
  "nbformat": 4,
  "nbformat_minor": 0,
  "metadata": {
    "kernelspec": {
      "display_name": "Python 3",
      "language": "python",
      "name": "python3"
    },
    "language_info": {
      "codemirror_mode": {
        "name": "ipython",
        "version": 3
      },
      "file_extension": ".py",
      "mimetype": "text/x-python",
      "name": "python",
      "nbconvert_exporter": "python",
      "pygments_lexer": "ipython3",
      "version": "3.8.3"
    },
    "colab": {
      "name": "00e_introduction_to_python_tasks.ipynb",
      "provenance": []
    }
  },
  "cells": [
    {
      "cell_type": "markdown",
      "metadata": {
        "id": "5jWT4uEioU4P"
      },
      "source": [
        "# Exercise 0: Introduction to Python"
      ]
    },
    {
      "cell_type": "markdown",
      "metadata": {
        "id": "LXsh7w9KoU4S"
      },
      "source": [
        "### Use Python as a calculator to compute 256²"
      ]
    },
    {
      "cell_type": "code",
      "metadata": {
        "id": "Tteoo3ZwoU4X",
        "outputId": "49665034-89fe-4f07-dcdc-c733f5b72fc7",
        "colab": {
          "base_uri": "https://localhost:8080/"
        }
      },
      "source": [
        "256 * 256"
      ],
      "execution_count": 1,
      "outputs": [
        {
          "output_type": "execute_result",
          "data": {
            "text/plain": [
              "65536"
            ]
          },
          "metadata": {
            "tags": []
          },
          "execution_count": 1
        }
      ]
    },
    {
      "cell_type": "markdown",
      "metadata": {
        "id": "lbGWkGuBoU4o"
      },
      "source": [
        "### Put the strings \"Hello\" and \"World!\" in two variables. Concatenate both Strings and print them"
      ]
    },
    {
      "cell_type": "code",
      "metadata": {
        "id": "s0iSK70xoU4s",
        "outputId": "54455823-d445-4455-c36f-3869acd8292e",
        "colab": {
          "base_uri": "https://localhost:8080/",
          "height": 34
        }
      },
      "source": [
        "hello = 'Hello'\n",
        "world = 'World!'\n",
        "helloworld = hello + world\n",
        "helloworld"
      ],
      "execution_count": 3,
      "outputs": [
        {
          "output_type": "execute_result",
          "data": {
            "application/vnd.google.colaboratory.intrinsic+json": {
              "type": "string"
            },
            "text/plain": [
              "'HelloWorld!'"
            ]
          },
          "metadata": {
            "tags": []
          },
          "execution_count": 3
        }
      ]
    },
    {
      "cell_type": "markdown",
      "metadata": {
        "id": "4_HD3pcqoU42"
      },
      "source": [
        "### Create a list that contains the 4 strings \"alpha\", \"beta\", \"gamma\", and \"delta\". Add \"epsilon\" to the end of this list"
      ]
    },
    {
      "cell_type": "code",
      "metadata": {
        "id": "PnvghmnAoU46",
        "outputId": "1604ff20-cf04-4803-a34d-d9bc30721f7f",
        "colab": {
          "base_uri": "https://localhost:8080/"
        }
      },
      "source": [
        "l = ['alpha', 'beta', 'gamma', 'delta']\n",
        "l.append('epsilon')\n",
        "l"
      ],
      "execution_count": 5,
      "outputs": [
        {
          "output_type": "execute_result",
          "data": {
            "text/plain": [
              "['alpha', 'beta', 'gamma', 'delta', 'epsilon']"
            ]
          },
          "metadata": {
            "tags": []
          },
          "execution_count": 5
        }
      ]
    },
    {
      "cell_type": "markdown",
      "metadata": {
        "id": "MGUaMckGoU5D"
      },
      "source": [
        "### Create a sublist with the first three elements of this list\n"
      ]
    },
    {
      "cell_type": "code",
      "metadata": {
        "id": "ALk8XtMnoU5F",
        "outputId": "417d38c2-38cd-4e1d-95ae-bb0d8b0063ff",
        "colab": {
          "base_uri": "https://localhost:8080/"
        }
      },
      "source": [
        "l2 = l[:3]\n",
        "l2"
      ],
      "execution_count": 6,
      "outputs": [
        {
          "output_type": "execute_result",
          "data": {
            "text/plain": [
              "['alpha', 'beta', 'gamma']"
            ]
          },
          "metadata": {
            "tags": []
          },
          "execution_count": 6
        }
      ]
    },
    {
      "cell_type": "markdown",
      "metadata": {
        "id": "oCaZMp98oU5O"
      },
      "source": [
        "### Write a Python program to construct the following pattern using for loops"
      ]
    },
    {
      "cell_type": "code",
      "metadata": {
        "id": "xlSn5U8UoU5R"
      },
      "source": [
        "* \n",
        "* * \n",
        "* * * \n",
        "* * * * \n",
        "* * * * * \n",
        "* * * * \n",
        "* * * \n",
        "* * \n",
        "*"
      ],
      "execution_count": null,
      "outputs": []
    },
    {
      "cell_type": "code",
      "metadata": {
        "id": "sd1CDErwoU5c",
        "outputId": "305b003f-66dd-4f61-ee62-9297e6d6e410",
        "colab": {
          "base_uri": "https://localhost:8080/"
        }
      },
      "source": [
        "for i in list(range(1,6)) + list(range(4,0,-1)):\n",
        "  print(i*\"*\")"
      ],
      "execution_count": 8,
      "outputs": [
        {
          "output_type": "stream",
          "text": [
            "*\n",
            "**\n",
            "***\n",
            "****\n",
            "*****\n",
            "****\n",
            "***\n",
            "**\n",
            "*\n"
          ],
          "name": "stdout"
        }
      ]
    },
    {
      "cell_type": "markdown",
      "metadata": {
        "id": "eAjNssNdoU5k"
      },
      "source": [
        "### Write a function that takes 3 input parameters and returns the product of these values"
      ]
    },
    {
      "cell_type": "code",
      "metadata": {
        "id": "W8POnLsPoU5k",
        "outputId": "10b5f5c1-59b5-4ece-b3cb-4e39d69ce107",
        "colab": {
          "base_uri": "https://localhost:8080/"
        }
      },
      "source": [
        "def prod(*a):\n",
        "  r = 1\n",
        "  for e in a:\n",
        "      r *= e\n",
        "  return r\n",
        "\n",
        "prod(12,3)"
      ],
      "execution_count": 11,
      "outputs": [
        {
          "output_type": "execute_result",
          "data": {
            "text/plain": [
              "36"
            ]
          },
          "metadata": {
            "tags": []
          },
          "execution_count": 11
        }
      ]
    },
    {
      "cell_type": "markdown",
      "metadata": {
        "id": "PAy4xCHtoU5s"
      },
      "source": [
        "### Write a Python function that takes an int as a parameter and checks if the number is prime or not."
      ]
    },
    {
      "cell_type": "code",
      "metadata": {
        "id": "kiRNEf3SoU5u",
        "outputId": "fba5ee27-4fff-4bff-edc5-4fe635f48650",
        "colab": {
          "base_uri": "https://localhost:8080/"
        }
      },
      "source": [
        "def is_prime(a):  \n",
        "  for i in range(a//2, 1, -1):\n",
        "    if (a%i==0):\n",
        "      return False\n",
        "  return True \n",
        "\n",
        "is_prime(7)"
      ],
      "execution_count": 16,
      "outputs": [
        {
          "output_type": "execute_result",
          "data": {
            "text/plain": [
              "True"
            ]
          },
          "metadata": {
            "tags": []
          },
          "execution_count": 16
        }
      ]
    },
    {
      "cell_type": "markdown",
      "metadata": {
        "id": "soJ3roqBoU52"
      },
      "source": [
        "### Use your function to create a list that contains all primes from 2 to 100"
      ]
    },
    {
      "cell_type": "code",
      "metadata": {
        "id": "d1pA4UNDoU54",
        "outputId": "c6ac0780-6109-48e6-8e34-b5cceb38126b",
        "colab": {
          "base_uri": "https://localhost:8080/"
        }
      },
      "source": [
        "def primes_up_to(x):\n",
        "  r = []\n",
        "  for i in range(2,x+1):\n",
        "    if is_prime(i):\n",
        "      r.append(i)\n",
        "  return r\n",
        "\n",
        "primes_up_to(30)"
      ],
      "execution_count": 17,
      "outputs": [
        {
          "output_type": "execute_result",
          "data": {
            "text/plain": [
              "[2, 3, 5, 7, 11, 13, 17, 19, 23, 29]"
            ]
          },
          "metadata": {
            "tags": []
          },
          "execution_count": 17
        }
      ]
    },
    {
      "cell_type": "markdown",
      "metadata": {
        "id": "lQN2rILzoU6A"
      },
      "source": [
        "### Write a function that simulates dice rolls (6-sided dices)\n",
        "- Write a function that has the number of dice rolls as the input parameter\n",
        "- The output is a map with the counts how often each result of a roll (1-6) occurred\n",
        "- You can use the randomint() function from the random package"
      ]
    },
    {
      "cell_type": "code",
      "metadata": {
        "id": "jGLOVT-3oU6C",
        "outputId": "2a73bf5c-a8e4-4f8c-c570-77ad68cd28b6",
        "colab": {
          "base_uri": "https://localhost:8080/",
          "height": 34
        }
      },
      "source": [
        "# load the random package\n",
        "import random\n",
        "\n",
        "def roll(x):\n",
        "  result = {1:0, 2:0, 3:0, 4:0, 5:0, 6:0}\n",
        "  for i in range(1,x):\n",
        "    y = random.randint(1,6)\n",
        "    result[y]+=1\n",
        "  return result\n",
        "\n",
        "roll(1000000)\n"
      ],
      "execution_count": null,
      "outputs": [
        {
          "output_type": "execute_result",
          "data": {
            "text/plain": [
              "{1: 166561, 2: 166531, 3: 166354, 4: 166684, 5: 167081, 6: 166788}"
            ]
          },
          "metadata": {
            "tags": []
          },
          "execution_count": 38
        }
      ]
    },
    {
      "cell_type": "markdown",
      "metadata": {
        "id": "nK30kACNoU6M"
      },
      "source": [
        "### Combine two dictionaries by adding values for common keys.\n",
        "d1 = {'a': 100, 'b': 200, 'c':300}\n",
        "\n",
        "d2 = {'a': 300, 'b': 200, 'd':400}\n",
        "\n",
        "Sample output: {'a': 400, 'b': 400, 'd': 400, 'c': 300}"
      ]
    },
    {
      "cell_type": "code",
      "metadata": {
        "id": "N0p3m5wuoU6O",
        "outputId": "7a17d6c0-7d05-44f9-ba20-779e2b2c00d9",
        "colab": {
          "base_uri": "https://localhost:8080/",
          "height": 34
        }
      },
      "source": [
        "d1 = {'a': 100, 'b': 200, 'c':300}\n",
        "\n",
        "d2 = {'a': 300, 'b': 200, 'd':400}\n",
        "\n",
        "def add_dictionaries(d1,d2):\n",
        "  d = {}\n",
        "  for k,v in d1.items():\n",
        "    d[k] = v\n",
        "  for k,v in d2.items():\n",
        "    if k in d:\n",
        "      d[k] += d2[k]\n",
        "    else: \n",
        "      d[k] = d2[k]\n",
        "  return d\n",
        "\n",
        "add_dictionaries(d1, d2)"
      ],
      "execution_count": null,
      "outputs": [
        {
          "output_type": "execute_result",
          "data": {
            "text/plain": [
              "{'a': 400, 'b': 400, 'c': 300, 'd': 400}"
            ]
          },
          "metadata": {
            "tags": []
          },
          "execution_count": 44
        }
      ]
    },
    {
      "cell_type": "markdown",
      "metadata": {
        "id": "FCNrBYPKoU6Y"
      },
      "source": [
        "### Create a list of lists. Then, write a list comprehension that creates a list with the lengths of each (sub)list in the primary list"
      ]
    },
    {
      "cell_type": "code",
      "metadata": {
        "id": "BoxkxuykoU6Z",
        "outputId": "d984b51d-7e8b-49ac-eabe-f4a13ac7778e",
        "colab": {
          "base_uri": "https://localhost:8080/",
          "height": 34
        }
      },
      "source": [
        "test_l = [[1,2,3],[\"a\", \"b\"], [123.5, \"a\", 44]]\n",
        "[len(t) for t in test_l]"
      ],
      "execution_count": null,
      "outputs": [
        {
          "output_type": "execute_result",
          "data": {
            "text/plain": [
              "[3, 2, 3]"
            ]
          },
          "metadata": {
            "tags": []
          },
          "execution_count": 46
        }
      ]
    },
    {
      "cell_type": "markdown",
      "metadata": {
        "id": "LRyuKa22oU6j"
      },
      "source": [
        "### Exceptions\n",
        "\n",
        "Write your own function *my_division* that gets two variables a and b and returns a divided by b. Catch the ZeroDivisionError that occurs if b equals 0 and return 1 in this case.\n",
        "\n",
        "How could the same behavior be achieved without catching an exception?"
      ]
    },
    {
      "cell_type": "code",
      "metadata": {
        "id": "suiQPzg0oU6n",
        "outputId": "3e002b6e-0353-4fb7-ef4d-02c52596978a",
        "colab": {
          "base_uri": "https://localhost:8080/",
          "height": 52
        }
      },
      "source": [
        "def divide(a,b):\n",
        "  try:\n",
        "    return a/b\n",
        "  except:\n",
        "    return 1\n",
        "\n",
        "def divide1(a,b):\n",
        "  if b == 0:\n",
        "    return 1\n",
        "  else: \n",
        "    return a/b\n",
        "\n",
        "print(divide(20,0))\n",
        "print(divide1(20,0))"
      ],
      "execution_count": null,
      "outputs": [
        {
          "output_type": "stream",
          "text": [
            "1\n",
            "1\n"
          ],
          "name": "stdout"
        }
      ]
    },
    {
      "cell_type": "markdown",
      "metadata": {
        "id": "OXaQ70LqoU61"
      },
      "source": [
        "### File handling\n",
        "\n",
        "Write a function that gets a letter and the path to a (text-)file on your harddrive as input parameters and computes a list as its output. The list should contain one number for each line. The i-th line shows, how often the given letter occurs in line number i in the text file. Test your function on \"ftest.txt\", which was provided in this exercise!"
      ]
    },
    {
      "cell_type": "code",
      "metadata": {
        "id": "NM_gg9ghoU65"
      },
      "source": [
        "def count_letter(letter, filename):\n",
        "  result = []\n",
        "  with open(filename, \"r\") as f: # \"r for reading\"\n",
        "    for line in f: \n",
        "      result.append(line.count(letter))\n",
        "    return result"
      ],
      "execution_count": null,
      "outputs": []
    },
    {
      "cell_type": "markdown",
      "metadata": {
        "id": "cMzRm5YvoU7B"
      },
      "source": [
        "### Change please!\n",
        "In our currency, we have coins with certain values, e.g., (200,100,50,20,10,5,2,1) cents. Write a function that computes the different options to pay a certain amount X with the given set of coins."
      ]
    },
    {
      "cell_type": "markdown",
      "metadata": {
        "id": "2HCGsx9joU7D"
      },
      "source": [
        "Example:\n",
        "pay_options (10, [200,100,50,20,10,5,2,1])\n",
        "[[10],\n",
        " [5, 5],\n",
        " [5, 2, 2, 1],\n",
        " [5, 2, 1, 1, 1],\n",
        " [5, 1, 1, 1, 1, 1],\n",
        " [2, 2, 2, 2, 2],\n",
        " [2, 2, 2, 2, 1, 1],\n",
        " [2, 2, 2, 1, 1, 1, 1],\n",
        " [2, 2, 1, 1, 1, 1, 1, 1],\n",
        " [2, 1, 1, 1, 1, 1, 1, 1, 1],\n",
        " [1, 1, 1, 1, 1, 1, 1, 1, 1, 1]]"
      ]
    },
    {
      "cell_type": "code",
      "metadata": {
        "id": "u4GRJfRRoU7E"
      },
      "source": [
        "# slow but simple solution\n",
        "def pay_options(amount, list_of_coin_values, list_of_used_coins=[]):\n",
        "  # print(amount, list_of_used_coins_values, list_of_used_coins)\n",
        "  result = []\n",
        "  for i, v in enumerate(list_of_coin_values):\n",
        "    if amount > v:\n",
        "      new_used_coins = list_of_used_coins.copy()\n",
        "      new_used_coins.append(v)\n",
        "      result.extend(pay_options(amount - v, list_of_coin_values[:i], new_used_coins))\n",
        "    elif amount == v:\n",
        "      new_options = list_of_used_coins.copy()\n",
        "      new_options.append(v)\n",
        "      result.append(new_options)\n",
        "    return result"
      ],
      "execution_count": null,
      "outputs": []
    },
    {
      "cell_type": "markdown",
      "metadata": {
        "id": "3HNa9yP9oU7O"
      },
      "source": [
        "## Numpy\n",
        "\n",
        "In this last set of tasks, you will have to work with numpy, the the fundamental package for scientific computing with Python.\n",
        "Make sure to execute the cell below to import the package, we will usually use the abbreviation np for numpy to obtain shorter code."
      ]
    },
    {
      "cell_type": "code",
      "metadata": {
        "id": "Znc9KmZGoU7R"
      },
      "source": [
        "import numpy as np"
      ],
      "execution_count": null,
      "outputs": []
    },
    {
      "cell_type": "markdown",
      "metadata": {
        "id": "VVmZmiI0oU7Z"
      },
      "source": [
        "### Create a numpy array with 20 rows and 10 columns, where all values are set to zero"
      ]
    },
    {
      "cell_type": "code",
      "metadata": {
        "id": "C0JFAw1koU7Z",
        "outputId": "80f231b9-aaf1-446c-e3b1-f5b1a9d1220f",
        "colab": {
          "base_uri": "https://localhost:8080/",
          "height": 364
        }
      },
      "source": [
        "x = np.zeros((20,10))\n",
        "x"
      ],
      "execution_count": null,
      "outputs": [
        {
          "output_type": "execute_result",
          "data": {
            "text/plain": [
              "array([[0., 0., 0., 0., 0., 0., 0., 0., 0., 0.],\n",
              "       [0., 0., 0., 0., 0., 0., 0., 0., 0., 0.],\n",
              "       [0., 0., 0., 0., 0., 0., 0., 0., 0., 0.],\n",
              "       [0., 0., 0., 0., 0., 0., 0., 0., 0., 0.],\n",
              "       [0., 0., 0., 0., 0., 0., 0., 0., 0., 0.],\n",
              "       [0., 0., 0., 0., 0., 0., 0., 0., 0., 0.],\n",
              "       [0., 0., 0., 0., 0., 0., 0., 0., 0., 0.],\n",
              "       [0., 0., 0., 0., 0., 0., 0., 0., 0., 0.],\n",
              "       [0., 0., 0., 0., 0., 0., 0., 0., 0., 0.],\n",
              "       [0., 0., 0., 0., 0., 0., 0., 0., 0., 0.],\n",
              "       [0., 0., 0., 0., 0., 0., 0., 0., 0., 0.],\n",
              "       [0., 0., 0., 0., 0., 0., 0., 0., 0., 0.],\n",
              "       [0., 0., 0., 0., 0., 0., 0., 0., 0., 0.],\n",
              "       [0., 0., 0., 0., 0., 0., 0., 0., 0., 0.],\n",
              "       [0., 0., 0., 0., 0., 0., 0., 0., 0., 0.],\n",
              "       [0., 0., 0., 0., 0., 0., 0., 0., 0., 0.],\n",
              "       [0., 0., 0., 0., 0., 0., 0., 0., 0., 0.],\n",
              "       [0., 0., 0., 0., 0., 0., 0., 0., 0., 0.],\n",
              "       [0., 0., 0., 0., 0., 0., 0., 0., 0., 0.],\n",
              "       [0., 0., 0., 0., 0., 0., 0., 0., 0., 0.]])"
            ]
          },
          "metadata": {
            "tags": []
          },
          "execution_count": 63
        }
      ]
    },
    {
      "cell_type": "markdown",
      "metadata": {
        "id": "ypuPS0AmoU7i"
      },
      "source": [
        "### Create an array with the same shape containing all natural numbers 0-199"
      ]
    },
    {
      "cell_type": "code",
      "metadata": {
        "id": "CIC9xdBtoU7k",
        "outputId": "8f8c21ab-2bf0-4352-b2b0-57ce96f502bf",
        "colab": {
          "base_uri": "https://localhost:8080/",
          "height": 364
        }
      },
      "source": [
        "np.arange(200).reshape(20,10)"
      ],
      "execution_count": null,
      "outputs": [
        {
          "output_type": "execute_result",
          "data": {
            "text/plain": [
              "array([[  0,   1,   2,   3,   4,   5,   6,   7,   8,   9],\n",
              "       [ 10,  11,  12,  13,  14,  15,  16,  17,  18,  19],\n",
              "       [ 20,  21,  22,  23,  24,  25,  26,  27,  28,  29],\n",
              "       [ 30,  31,  32,  33,  34,  35,  36,  37,  38,  39],\n",
              "       [ 40,  41,  42,  43,  44,  45,  46,  47,  48,  49],\n",
              "       [ 50,  51,  52,  53,  54,  55,  56,  57,  58,  59],\n",
              "       [ 60,  61,  62,  63,  64,  65,  66,  67,  68,  69],\n",
              "       [ 70,  71,  72,  73,  74,  75,  76,  77,  78,  79],\n",
              "       [ 80,  81,  82,  83,  84,  85,  86,  87,  88,  89],\n",
              "       [ 90,  91,  92,  93,  94,  95,  96,  97,  98,  99],\n",
              "       [100, 101, 102, 103, 104, 105, 106, 107, 108, 109],\n",
              "       [110, 111, 112, 113, 114, 115, 116, 117, 118, 119],\n",
              "       [120, 121, 122, 123, 124, 125, 126, 127, 128, 129],\n",
              "       [130, 131, 132, 133, 134, 135, 136, 137, 138, 139],\n",
              "       [140, 141, 142, 143, 144, 145, 146, 147, 148, 149],\n",
              "       [150, 151, 152, 153, 154, 155, 156, 157, 158, 159],\n",
              "       [160, 161, 162, 163, 164, 165, 166, 167, 168, 169],\n",
              "       [170, 171, 172, 173, 174, 175, 176, 177, 178, 179],\n",
              "       [180, 181, 182, 183, 184, 185, 186, 187, 188, 189],\n",
              "       [190, 191, 192, 193, 194, 195, 196, 197, 198, 199]])"
            ]
          },
          "metadata": {
            "tags": []
          },
          "execution_count": 66
        }
      ]
    },
    {
      "cell_type": "markdown",
      "metadata": {
        "id": "yfwga-jroU7r"
      },
      "source": [
        "### Create a 4-dimensional array with exactly 16 elements and set all values to a random integer smaller than 5"
      ]
    },
    {
      "cell_type": "code",
      "metadata": {
        "id": "8eu3RB4doU7t",
        "outputId": "cfe07c93-1d1d-4abe-91f8-b40f5d9d0d1a",
        "colab": {
          "base_uri": "https://localhost:8080/",
          "height": 225
        }
      },
      "source": [
        "x = np.random.randint(5, size=(2,2,2,2))\n",
        "x"
      ],
      "execution_count": null,
      "outputs": [
        {
          "output_type": "execute_result",
          "data": {
            "text/plain": [
              "array([[[[4, 0],\n",
              "         [0, 3]],\n",
              "\n",
              "        [[1, 1],\n",
              "         [3, 2]]],\n",
              "\n",
              "\n",
              "       [[[0, 3],\n",
              "         [4, 2]],\n",
              "\n",
              "        [[1, 4],\n",
              "         [2, 0]]]])"
            ]
          },
          "metadata": {
            "tags": []
          },
          "execution_count": 67
        }
      ]
    },
    {
      "cell_type": "markdown",
      "metadata": {
        "id": "i2RhrG3DoU71"
      },
      "source": [
        "### What is the mean of all values contained in this array?"
      ]
    },
    {
      "cell_type": "code",
      "metadata": {
        "id": "NbcN70g0oU76",
        "outputId": "33756797-f69c-4919-d90a-fb81c1f0a209",
        "colab": {
          "base_uri": "https://localhost:8080/",
          "height": 34
        }
      },
      "source": [
        "x.mean()"
      ],
      "execution_count": null,
      "outputs": [
        {
          "output_type": "execute_result",
          "data": {
            "text/plain": [
              "1.875"
            ]
          },
          "metadata": {
            "tags": []
          },
          "execution_count": 68
        }
      ]
    },
    {
      "cell_type": "markdown",
      "metadata": {
        "id": "LYT9d8HzoU8C"
      },
      "source": [
        "### Select a sub-array containing exactly two elements of that array!"
      ]
    },
    {
      "cell_type": "code",
      "metadata": {
        "id": "ahHOjn5woU8E",
        "outputId": "2b24c54c-47f9-4cbc-d9e4-025011c6f55f",
        "colab": {
          "base_uri": "https://localhost:8080/",
          "height": 34
        }
      },
      "source": [
        "x[:,1,1,1]"
      ],
      "execution_count": null,
      "outputs": [
        {
          "output_type": "execute_result",
          "data": {
            "text/plain": [
              "array([2, 0])"
            ]
          },
          "metadata": {
            "tags": []
          },
          "execution_count": 69
        }
      ]
    },
    {
      "cell_type": "markdown",
      "metadata": {
        "id": "2s5tprMEoU8L"
      },
      "source": [
        "### Given a numpy array, return a new numpy array that contains (only) the elements that are greater than 100"
      ]
    },
    {
      "cell_type": "code",
      "metadata": {
        "id": "AWGp42dBoU8M",
        "outputId": "407f3a46-b402-45a6-dc59-7b5736b080a7",
        "colab": {
          "base_uri": "https://localhost:8080/",
          "height": 34
        }
      },
      "source": [
        "x = np.array([120,-5,150,250,300,50,112])\n",
        "x[x > 100]"
      ],
      "execution_count": null,
      "outputs": [
        {
          "output_type": "execute_result",
          "data": {
            "text/plain": [
              "array([120, 150, 250, 300, 112])"
            ]
          },
          "metadata": {
            "tags": []
          },
          "execution_count": 70
        }
      ]
    }
  ]
}